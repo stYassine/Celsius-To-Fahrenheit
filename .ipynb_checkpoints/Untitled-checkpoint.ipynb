{
 "cells": [
  {
   "cell_type": "markdown",
   "metadata": {},
   "source": [
    "# 1- Problem Statement"
   ]
  },
  {
   "cell_type": "markdown",
   "metadata": {},
   "source": [
    "### Convert °C TO °F\n",
    "#### - in this Project, we will build a simple machine learning model to convert Temperatures from Celsius to Fahrenheit.\n",
    "#### - The Equation is as follows:\n",
    "\tT(°F) = T(°C) * 9/5 + 32\n",
    "#### - For Example, let's convert 0°C Celsius temperature to Fahrenheit:\n",
    "\tT(°F) = (0°C * 9/5) + 32 = 32°F\t"
   ]
  },
  {
   "cell_type": "markdown",
   "metadata": {},
   "source": [
    "#### - The Objective is to predict the value of one variable Y based on another variable X\n",
    "#### - X is called the independent variable and Y is called the dependant variable.\n",
    "#### - This is called \"Regression\""
   ]
  },
  {
   "cell_type": "markdown",
   "metadata": {},
   "source": [
    "# 2- Import Libraries"
   ]
  },
  {
   "cell_type": "code",
   "execution_count": 1,
   "metadata": {},
   "outputs": [],
   "source": [
    "import pandas as pd\n",
    "import numpy as np\n",
    "import seaborn as sns\n",
    "import matplotlib.pyplot as plt"
   ]
  },
  {
   "cell_type": "markdown",
   "metadata": {},
   "source": [
    "# 3- Import Dataset"
   ]
  },
  {
   "cell_type": "code",
   "execution_count": 2,
   "metadata": {},
   "outputs": [],
   "source": [
    "temp_df = pd.read_csv('011 Celsius-to-Fahrenheit.csv')"
   ]
  },
  {
   "cell_type": "code",
   "execution_count": 3,
   "metadata": {},
   "outputs": [
    {
     "data": {
      "text/html": [
       "<div>\n",
       "<style scoped>\n",
       "    .dataframe tbody tr th:only-of-type {\n",
       "        vertical-align: middle;\n",
       "    }\n",
       "\n",
       "    .dataframe tbody tr th {\n",
       "        vertical-align: top;\n",
       "    }\n",
       "\n",
       "    .dataframe thead th {\n",
       "        text-align: right;\n",
       "    }\n",
       "</style>\n",
       "<table border=\"1\" class=\"dataframe\">\n",
       "  <thead>\n",
       "    <tr style=\"text-align: right;\">\n",
       "      <th></th>\n",
       "      <th>Celsius</th>\n",
       "      <th>Fahrenheit</th>\n",
       "    </tr>\n",
       "  </thead>\n",
       "  <tbody>\n",
       "    <tr>\n",
       "      <th>0</th>\n",
       "      <td>False</td>\n",
       "      <td>False</td>\n",
       "    </tr>\n",
       "    <tr>\n",
       "      <th>1</th>\n",
       "      <td>False</td>\n",
       "      <td>False</td>\n",
       "    </tr>\n",
       "    <tr>\n",
       "      <th>2</th>\n",
       "      <td>False</td>\n",
       "      <td>False</td>\n",
       "    </tr>\n",
       "    <tr>\n",
       "      <th>3</th>\n",
       "      <td>False</td>\n",
       "      <td>False</td>\n",
       "    </tr>\n",
       "    <tr>\n",
       "      <th>4</th>\n",
       "      <td>False</td>\n",
       "      <td>False</td>\n",
       "    </tr>\n",
       "    <tr>\n",
       "      <th>5</th>\n",
       "      <td>False</td>\n",
       "      <td>False</td>\n",
       "    </tr>\n",
       "    <tr>\n",
       "      <th>6</th>\n",
       "      <td>False</td>\n",
       "      <td>False</td>\n",
       "    </tr>\n",
       "    <tr>\n",
       "      <th>7</th>\n",
       "      <td>False</td>\n",
       "      <td>False</td>\n",
       "    </tr>\n",
       "    <tr>\n",
       "      <th>8</th>\n",
       "      <td>False</td>\n",
       "      <td>False</td>\n",
       "    </tr>\n",
       "    <tr>\n",
       "      <th>9</th>\n",
       "      <td>False</td>\n",
       "      <td>False</td>\n",
       "    </tr>\n",
       "    <tr>\n",
       "      <th>10</th>\n",
       "      <td>False</td>\n",
       "      <td>False</td>\n",
       "    </tr>\n",
       "    <tr>\n",
       "      <th>11</th>\n",
       "      <td>False</td>\n",
       "      <td>False</td>\n",
       "    </tr>\n",
       "    <tr>\n",
       "      <th>12</th>\n",
       "      <td>False</td>\n",
       "      <td>False</td>\n",
       "    </tr>\n",
       "    <tr>\n",
       "      <th>13</th>\n",
       "      <td>False</td>\n",
       "      <td>False</td>\n",
       "    </tr>\n",
       "    <tr>\n",
       "      <th>14</th>\n",
       "      <td>False</td>\n",
       "      <td>False</td>\n",
       "    </tr>\n",
       "    <tr>\n",
       "      <th>15</th>\n",
       "      <td>False</td>\n",
       "      <td>False</td>\n",
       "    </tr>\n",
       "    <tr>\n",
       "      <th>16</th>\n",
       "      <td>False</td>\n",
       "      <td>False</td>\n",
       "    </tr>\n",
       "    <tr>\n",
       "      <th>17</th>\n",
       "      <td>False</td>\n",
       "      <td>False</td>\n",
       "    </tr>\n",
       "    <tr>\n",
       "      <th>18</th>\n",
       "      <td>False</td>\n",
       "      <td>False</td>\n",
       "    </tr>\n",
       "    <tr>\n",
       "      <th>19</th>\n",
       "      <td>False</td>\n",
       "      <td>False</td>\n",
       "    </tr>\n",
       "    <tr>\n",
       "      <th>20</th>\n",
       "      <td>False</td>\n",
       "      <td>False</td>\n",
       "    </tr>\n",
       "    <tr>\n",
       "      <th>21</th>\n",
       "      <td>False</td>\n",
       "      <td>False</td>\n",
       "    </tr>\n",
       "    <tr>\n",
       "      <th>22</th>\n",
       "      <td>False</td>\n",
       "      <td>False</td>\n",
       "    </tr>\n",
       "    <tr>\n",
       "      <th>23</th>\n",
       "      <td>False</td>\n",
       "      <td>False</td>\n",
       "    </tr>\n",
       "    <tr>\n",
       "      <th>24</th>\n",
       "      <td>False</td>\n",
       "      <td>False</td>\n",
       "    </tr>\n",
       "    <tr>\n",
       "      <th>25</th>\n",
       "      <td>False</td>\n",
       "      <td>False</td>\n",
       "    </tr>\n",
       "    <tr>\n",
       "      <th>26</th>\n",
       "      <td>False</td>\n",
       "      <td>False</td>\n",
       "    </tr>\n",
       "    <tr>\n",
       "      <th>27</th>\n",
       "      <td>False</td>\n",
       "      <td>False</td>\n",
       "    </tr>\n",
       "    <tr>\n",
       "      <th>28</th>\n",
       "      <td>False</td>\n",
       "      <td>False</td>\n",
       "    </tr>\n",
       "    <tr>\n",
       "      <th>29</th>\n",
       "      <td>False</td>\n",
       "      <td>False</td>\n",
       "    </tr>\n",
       "  </tbody>\n",
       "</table>\n",
       "</div>"
      ],
      "text/plain": [
       "    Celsius  Fahrenheit\n",
       "0     False       False\n",
       "1     False       False\n",
       "2     False       False\n",
       "3     False       False\n",
       "4     False       False\n",
       "5     False       False\n",
       "6     False       False\n",
       "7     False       False\n",
       "8     False       False\n",
       "9     False       False\n",
       "10    False       False\n",
       "11    False       False\n",
       "12    False       False\n",
       "13    False       False\n",
       "14    False       False\n",
       "15    False       False\n",
       "16    False       False\n",
       "17    False       False\n",
       "18    False       False\n",
       "19    False       False\n",
       "20    False       False\n",
       "21    False       False\n",
       "22    False       False\n",
       "23    False       False\n",
       "24    False       False\n",
       "25    False       False\n",
       "26    False       False\n",
       "27    False       False\n",
       "28    False       False\n",
       "29    False       False"
      ]
     },
     "execution_count": 3,
     "metadata": {},
     "output_type": "execute_result"
    }
   ],
   "source": [
    "temp_df.isnull()"
   ]
  },
  {
   "cell_type": "code",
   "execution_count": 4,
   "metadata": {},
   "outputs": [
    {
     "data": {
      "text/html": [
       "<div>\n",
       "<style scoped>\n",
       "    .dataframe tbody tr th:only-of-type {\n",
       "        vertical-align: middle;\n",
       "    }\n",
       "\n",
       "    .dataframe tbody tr th {\n",
       "        vertical-align: top;\n",
       "    }\n",
       "\n",
       "    .dataframe thead th {\n",
       "        text-align: right;\n",
       "    }\n",
       "</style>\n",
       "<table border=\"1\" class=\"dataframe\">\n",
       "  <thead>\n",
       "    <tr style=\"text-align: right;\">\n",
       "      <th></th>\n",
       "      <th>Celsius</th>\n",
       "      <th>Fahrenheit</th>\n",
       "    </tr>\n",
       "  </thead>\n",
       "  <tbody>\n",
       "    <tr>\n",
       "      <th>0</th>\n",
       "      <td>-50</td>\n",
       "      <td>-58.0</td>\n",
       "    </tr>\n",
       "    <tr>\n",
       "      <th>1</th>\n",
       "      <td>-40</td>\n",
       "      <td>-40.0</td>\n",
       "    </tr>\n",
       "    <tr>\n",
       "      <th>2</th>\n",
       "      <td>-30</td>\n",
       "      <td>-22.0</td>\n",
       "    </tr>\n",
       "    <tr>\n",
       "      <th>3</th>\n",
       "      <td>-20</td>\n",
       "      <td>-4.0</td>\n",
       "    </tr>\n",
       "    <tr>\n",
       "      <th>4</th>\n",
       "      <td>-10</td>\n",
       "      <td>14.0</td>\n",
       "    </tr>\n",
       "  </tbody>\n",
       "</table>\n",
       "</div>"
      ],
      "text/plain": [
       "   Celsius  Fahrenheit\n",
       "0      -50       -58.0\n",
       "1      -40       -40.0\n",
       "2      -30       -22.0\n",
       "3      -20        -4.0\n",
       "4      -10        14.0"
      ]
     },
     "execution_count": 4,
     "metadata": {},
     "output_type": "execute_result"
    }
   ],
   "source": [
    "temp_df.head(5)"
   ]
  },
  {
   "cell_type": "code",
   "execution_count": 5,
   "metadata": {},
   "outputs": [
    {
     "data": {
      "text/html": [
       "<div>\n",
       "<style scoped>\n",
       "    .dataframe tbody tr th:only-of-type {\n",
       "        vertical-align: middle;\n",
       "    }\n",
       "\n",
       "    .dataframe tbody tr th {\n",
       "        vertical-align: top;\n",
       "    }\n",
       "\n",
       "    .dataframe thead th {\n",
       "        text-align: right;\n",
       "    }\n",
       "</style>\n",
       "<table border=\"1\" class=\"dataframe\">\n",
       "  <thead>\n",
       "    <tr style=\"text-align: right;\">\n",
       "      <th></th>\n",
       "      <th>Celsius</th>\n",
       "      <th>Fahrenheit</th>\n",
       "    </tr>\n",
       "  </thead>\n",
       "  <tbody>\n",
       "    <tr>\n",
       "      <th>25</th>\n",
       "      <td>20</td>\n",
       "      <td>68.0</td>\n",
       "    </tr>\n",
       "    <tr>\n",
       "      <th>26</th>\n",
       "      <td>30</td>\n",
       "      <td>86.0</td>\n",
       "    </tr>\n",
       "    <tr>\n",
       "      <th>27</th>\n",
       "      <td>40</td>\n",
       "      <td>104.0</td>\n",
       "    </tr>\n",
       "    <tr>\n",
       "      <th>28</th>\n",
       "      <td>50</td>\n",
       "      <td>122.0</td>\n",
       "    </tr>\n",
       "    <tr>\n",
       "      <th>29</th>\n",
       "      <td>60</td>\n",
       "      <td>140.0</td>\n",
       "    </tr>\n",
       "  </tbody>\n",
       "</table>\n",
       "</div>"
      ],
      "text/plain": [
       "    Celsius  Fahrenheit\n",
       "25       20        68.0\n",
       "26       30        86.0\n",
       "27       40       104.0\n",
       "28       50       122.0\n",
       "29       60       140.0"
      ]
     },
     "execution_count": 5,
     "metadata": {},
     "output_type": "execute_result"
    }
   ],
   "source": [
    "temp_df.tail(5)"
   ]
  },
  {
   "cell_type": "code",
   "execution_count": 6,
   "metadata": {},
   "outputs": [
    {
     "data": {
      "text/html": [
       "<div>\n",
       "<style scoped>\n",
       "    .dataframe tbody tr th:only-of-type {\n",
       "        vertical-align: middle;\n",
       "    }\n",
       "\n",
       "    .dataframe tbody tr th {\n",
       "        vertical-align: top;\n",
       "    }\n",
       "\n",
       "    .dataframe thead th {\n",
       "        text-align: right;\n",
       "    }\n",
       "</style>\n",
       "<table border=\"1\" class=\"dataframe\">\n",
       "  <thead>\n",
       "    <tr style=\"text-align: right;\">\n",
       "      <th></th>\n",
       "      <th>Celsius</th>\n",
       "      <th>Fahrenheit</th>\n",
       "    </tr>\n",
       "  </thead>\n",
       "  <tbody>\n",
       "    <tr>\n",
       "      <th>count</th>\n",
       "      <td>30.000000</td>\n",
       "      <td>30.000000</td>\n",
       "    </tr>\n",
       "    <tr>\n",
       "      <th>mean</th>\n",
       "      <td>2.000000</td>\n",
       "      <td>35.600000</td>\n",
       "    </tr>\n",
       "    <tr>\n",
       "      <th>std</th>\n",
       "      <td>22.780815</td>\n",
       "      <td>41.005466</td>\n",
       "    </tr>\n",
       "    <tr>\n",
       "      <th>min</th>\n",
       "      <td>-50.000000</td>\n",
       "      <td>-58.000000</td>\n",
       "    </tr>\n",
       "    <tr>\n",
       "      <th>25%</th>\n",
       "      <td>-6.750000</td>\n",
       "      <td>19.850000</td>\n",
       "    </tr>\n",
       "    <tr>\n",
       "      <th>50%</th>\n",
       "      <td>0.500000</td>\n",
       "      <td>32.900000</td>\n",
       "    </tr>\n",
       "    <tr>\n",
       "      <th>75%</th>\n",
       "      <td>7.750000</td>\n",
       "      <td>45.950000</td>\n",
       "    </tr>\n",
       "    <tr>\n",
       "      <th>max</th>\n",
       "      <td>60.000000</td>\n",
       "      <td>140.000000</td>\n",
       "    </tr>\n",
       "  </tbody>\n",
       "</table>\n",
       "</div>"
      ],
      "text/plain": [
       "         Celsius  Fahrenheit\n",
       "count  30.000000   30.000000\n",
       "mean    2.000000   35.600000\n",
       "std    22.780815   41.005466\n",
       "min   -50.000000  -58.000000\n",
       "25%    -6.750000   19.850000\n",
       "50%     0.500000   32.900000\n",
       "75%     7.750000   45.950000\n",
       "max    60.000000  140.000000"
      ]
     },
     "execution_count": 6,
     "metadata": {},
     "output_type": "execute_result"
    }
   ],
   "source": [
    "temp_df.describe()"
   ]
  },
  {
   "cell_type": "code",
   "execution_count": 7,
   "metadata": {},
   "outputs": [
    {
     "name": "stdout",
     "output_type": "stream",
     "text": [
      "<class 'pandas.core.frame.DataFrame'>\n",
      "RangeIndex: 30 entries, 0 to 29\n",
      "Data columns (total 2 columns):\n",
      " #   Column      Non-Null Count  Dtype  \n",
      "---  ------      --------------  -----  \n",
      " 0   Celsius     30 non-null     int64  \n",
      " 1   Fahrenheit  30 non-null     float64\n",
      "dtypes: float64(1), int64(1)\n",
      "memory usage: 608.0 bytes\n"
     ]
    }
   ],
   "source": [
    "temp_df.info()"
   ]
  },
  {
   "cell_type": "markdown",
   "metadata": {},
   "source": [
    "# 4- Visualize Dataset"
   ]
  },
  {
   "cell_type": "code",
   "execution_count": 8,
   "metadata": {},
   "outputs": [
    {
     "data": {
      "text/plain": [
       "<matplotlib.axes._subplots.AxesSubplot at 0x235a9313f98>"
      ]
     },
     "execution_count": 8,
     "metadata": {},
     "output_type": "execute_result"
    },
    {
     "data": {
      "image/png": "[encoded data removed]",
      "text/plain": [
       "<Figure size 432x288 with 1 Axes>"
      ]
     },
     "metadata": {
      "needs_background": "light"
     },
     "output_type": "display_data"
    }
   ],
   "source": [
    "sns.scatterplot(temp_df['Celsius'], temp_df['Fahrenheit'])"
   ]
  },
  {
   "cell_type": "markdown",
   "metadata": {},
   "source": [
    "# 5- Create Testing & Training Dataset"
   ]
  },
  {
   "cell_type": "code",
   "execution_count": 9,
   "metadata": {},
   "outputs": [],
   "source": [
    "X_train = temp_df['Celsius']\n",
    "y_train = temp_df['Fahrenheit']"
   ]
  },
  {
   "cell_type": "code",
   "execution_count": 10,
   "metadata": {},
   "outputs": [
    {
     "name": "stderr",
     "output_type": "stream",
     "text": [
      "Using TensorFlow backend.\n"
     ]
    }
   ],
   "source": [
    "from tensorflow import keras\n",
    "from keras.models import Sequential\n",
    "from keras.layers import Dense\n",
    "from keras.optimizers import Adam"
   ]
  },
  {
   "cell_type": "code",
   "execution_count": 11,
   "metadata": {},
   "outputs": [],
   "source": [
    "model = Sequential()\n",
    "model.add(Dense(units = 1 , input_shape = [1] ))"
   ]
  },
  {
   "cell_type": "code",
   "execution_count": 12,
   "metadata": {},
   "outputs": [
    {
     "name": "stdout",
     "output_type": "stream",
     "text": [
      "Model: \"sequential_1\"\n",
      "_________________________________________________________________\n",
      "Layer (type)                 Output Shape              Param #   \n",
      "=================================================================\n",
      "dense_1 (Dense)              (None, 1)                 2         \n",
      "=================================================================\n",
      "Total params: 2\n",
      "Trainable params: 2\n",
      "Non-trainable params: 0\n",
      "_________________________________________________________________\n"
     ]
    }
   ],
   "source": [
    "model.summary()"
   ]
  },
  {
   "cell_type": "code",
   "execution_count": 13,
   "metadata": {},
   "outputs": [],
   "source": [
    "model.compile(optimizer= Adam(0.7), loss = \"mean_squared_error\" )"
   ]
  },
  {
   "cell_type": "code",
   "execution_count": 14,
   "metadata": {},
   "outputs": [
    {
     "name": "stdout",
     "output_type": "stream",
     "text": [
      "Epoch 1/100\n",
      "30/30 [==============================] - 0s 3ms/step - loss: 3147.5212\n",
      "Epoch 2/100\n",
      "30/30 [==============================] - 0s 67us/step - loss: 2167.1299\n",
      "Epoch 3/100\n",
      "30/30 [==============================] - 0s 67us/step - loss: 1390.6248\n",
      "Epoch 4/100\n",
      "30/30 [==============================] - 0s 67us/step - loss: 966.4515\n",
      "Epoch 5/100\n",
      "30/30 [==============================] - 0s 67us/step - loss: 890.4461\n",
      "Epoch 6/100\n",
      "30/30 [==============================] - 0s 33us/step - loss: 1044.5880\n",
      "Epoch 7/100\n",
      "30/30 [==============================] - 0s 33us/step - loss: 1246.0581\n",
      "Epoch 8/100\n",
      "30/30 [==============================] - 0s 67us/step - loss: 1350.5095\n",
      "Epoch 9/100\n",
      "30/30 [==============================] - 0s 67us/step - loss: 1312.4642\n",
      "Epoch 10/100\n",
      "30/30 [==============================] - 0s 67us/step - loss: 1162.2401\n",
      "Epoch 11/100\n",
      "30/30 [==============================] - 0s 67us/step - loss: 960.2848\n",
      "Epoch 12/100\n",
      "30/30 [==============================] - 0s 33us/step - loss: 766.5192\n",
      "Epoch 13/100\n",
      "30/30 [==============================] - 0s 67us/step - loss: 624.5092\n",
      "Epoch 14/100\n",
      "30/30 [==============================] - 0s 67us/step - loss: 554.0186\n",
      "Epoch 15/100\n",
      "30/30 [==============================] - 0s 67us/step - loss: 548.7291\n",
      "Epoch 16/100\n",
      "30/30 [==============================] - 0s 67us/step - loss: 582.7799\n",
      "Epoch 17/100\n",
      "30/30 [==============================] - 0s 33us/step - loss: 621.3709\n",
      "Epoch 18/100\n",
      "30/30 [==============================] - 0s 67us/step - loss: 635.2861\n",
      "Epoch 19/100\n",
      "30/30 [==============================] - 0s 67us/step - loss: 610.6887\n",
      "Epoch 20/100\n",
      "30/30 [==============================] - 0s 67us/step - loss: 551.4066\n",
      "Epoch 21/100\n",
      "30/30 [==============================] - 0s 67us/step - loss: 471.6417\n",
      "Epoch 22/100\n",
      "30/30 [==============================] - 0s 67us/step - loss: 391.9153\n",
      "Epoch 23/100\n",
      "30/30 [==============================] - 0s 33us/step - loss: 329.2330\n",
      "Epoch 24/100\n",
      "30/30 [==============================] - 0s 67us/step - loss: 292.8354\n",
      "Epoch 25/100\n",
      "30/30 [==============================] - 0s 67us/step - loss: 280.9858\n",
      "Epoch 26/100\n",
      "30/30 [==============================] - 0s 67us/step - loss: 285.0927\n",
      "Epoch 27/100\n",
      "30/30 [==============================] - 0s 33us/step - loss: 292.1211\n",
      "Epoch 28/100\n",
      "30/30 [==============================] - 0s 67us/step - loss: 290.5755\n",
      "Epoch 29/100\n",
      "30/30 [==============================] - 0s 67us/step - loss: 274.5938\n",
      "Epoch 30/100\n",
      "30/30 [==============================] - 0s 67us/step - loss: 245.2142\n",
      "Epoch 31/100\n",
      "30/30 [==============================] - 0s 67us/step - loss: 208.8008\n",
      "Epoch 32/100\n",
      "30/30 [==============================] - 0s 67us/step - loss: 173.7603\n",
      "Epoch 33/100\n",
      "30/30 [==============================] - 0s 67us/step - loss: 147.0487\n",
      "Epoch 34/100\n",
      "30/30 [==============================] - 0s 67us/step - loss: 131.7342\n",
      "Epoch 35/100\n",
      "30/30 [==============================] - 0s 67us/step - loss: 126.3537\n",
      "Epoch 36/100\n",
      "30/30 [==============================] - 0s 67us/step - loss: 126.1142\n",
      "Epoch 37/100\n",
      "30/30 [==============================] - 0s 67us/step - loss: 125.2810\n",
      "Epoch 38/100\n",
      "30/30 [==============================] - 0s 67us/step - loss: 119.6398\n",
      "Epoch 39/100\n",
      "30/30 [==============================] - 0s 67us/step - loss: 107.9811\n",
      "Epoch 40/100\n",
      "30/30 [==============================] - 0s 67us/step - loss: 92.1123\n",
      "Epoch 41/100\n",
      "30/30 [==============================] - 0s 67us/step - loss: 75.6140\n",
      "Epoch 42/100\n",
      "30/30 [==============================] - 0s 67us/step - loss: 62.0505\n",
      "Epoch 43/100\n",
      "30/30 [==============================] - 0s 33us/step - loss: 53.4518\n",
      "Epoch 44/100\n",
      "30/30 [==============================] - 0s 33us/step - loss: 49.6613\n",
      "Epoch 45/100\n",
      "30/30 [==============================] - 0s 67us/step - loss: 48.7140\n",
      "Epoch 46/100\n",
      "30/30 [==============================] - 0s 67us/step - loss: 47.9557\n",
      "Epoch 47/100\n",
      "30/30 [==============================] - 0s 67us/step - loss: 45.3052\n",
      "Epoch 48/100\n",
      "30/30 [==============================] - 0s 67us/step - loss: 40.0993\n",
      "Epoch 49/100\n",
      "30/30 [==============================] - 0s 67us/step - loss: 33.1299\n",
      "Epoch 50/100\n",
      "30/30 [==============================] - 0s 33us/step - loss: 26.0524\n",
      "Epoch 51/100\n",
      "30/30 [==============================] - 0s 67us/step - loss: 20.4795\n",
      "Epoch 52/100\n",
      "30/30 [==============================] - 0s 67us/step - loss: 17.2297\n",
      "Epoch 53/100\n",
      "30/30 [==============================] - 0s 67us/step - loss: 16.0568\n",
      "Epoch 54/100\n",
      "30/30 [==============================] - 0s 67us/step - loss: 15.9185\n",
      "Epoch 55/100\n",
      "30/30 [==============================] - 0s 67us/step - loss: 15.5853\n",
      "Epoch 56/100\n",
      "30/30 [==============================] - 0s 33us/step - loss: 14.2490\n",
      "Epoch 57/100\n",
      "30/30 [==============================] - 0s 67us/step - loss: 11.8363\n",
      "Epoch 58/100\n",
      "30/30 [==============================] - 0s 67us/step - loss: 8.9171\n",
      "Epoch 59/100\n",
      "30/30 [==============================] - 0s 67us/step - loss: 6.3123\n",
      "Epoch 60/100\n",
      "30/30 [==============================] - 0s 33us/step - loss: 4.6376\n",
      "Epoch 61/100\n",
      "30/30 [==============================] - 0s 67us/step - loss: 4.0207\n",
      "Epoch 62/100\n",
      "30/30 [==============================] - 0s 67us/step - loss: 4.1070\n",
      "Epoch 63/100\n",
      "30/30 [==============================] - 0s 67us/step - loss: 4.3088\n",
      "Epoch 64/100\n",
      "30/30 [==============================] - 0s 67us/step - loss: 4.1368\n",
      "Epoch 65/100\n",
      "30/30 [==============================] - 0s 67us/step - loss: 3.4300\n",
      "Epoch 66/100\n",
      "30/30 [==============================] - 0s 67us/step - loss: 2.3799\n",
      "Epoch 67/100\n",
      "30/30 [==============================] - 0s 67us/step - loss: 1.3672\n",
      "Epoch 68/100\n",
      "30/30 [==============================] - 0s 67us/step - loss: 0.7257\n",
      "Epoch 69/100\n",
      "30/30 [==============================] - 0s 67us/step - loss: 0.5678\n",
      "Epoch 70/100\n",
      "30/30 [==============================] - 0s 67us/step - loss: 0.7564\n",
      "Epoch 71/100\n",
      "30/30 [==============================] - 0s 67us/step - loss: 1.0155\n",
      "Epoch 72/100\n",
      "30/30 [==============================] - 0s 67us/step - loss: 1.0984\n",
      "Epoch 73/100\n",
      "30/30 [==============================] - 0s 67us/step - loss: 0.9169\n",
      "Epoch 74/100\n",
      "30/30 [==============================] - 0s 33us/step - loss: 0.5573\n",
      "Epoch 75/100\n",
      "30/30 [==============================] - 0s 67us/step - loss: 0.2051\n",
      "Epoch 76/100\n",
      "30/30 [==============================] - 0s 100us/step - loss: 0.0158\n",
      "Epoch 77/100\n",
      "30/30 [==============================] - 0s 33us/step - loss: 0.0415\n",
      "Epoch 78/100\n",
      "30/30 [==============================] - 0s 67us/step - loss: 0.2090\n",
      "Epoch 79/100\n",
      "30/30 [==============================] - 0s 67us/step - loss: 0.3830\n",
      "Epoch 80/100\n",
      "30/30 [==============================] - 0s 33us/step - loss: 0.4522\n",
      "Epoch 81/100\n",
      "30/30 [==============================] - 0s 33us/step - loss: 0.3887\n",
      "Epoch 82/100\n",
      "30/30 [==============================] - 0s 67us/step - loss: 0.2486\n",
      "Epoch 83/100\n",
      "30/30 [==============================] - 0s 67us/step - loss: 0.1250\n",
      "Epoch 84/100\n",
      "30/30 [==============================] - 0s 100us/step - loss: 0.0864\n",
      "Epoch 85/100\n",
      "30/30 [==============================] - 0s 67us/step - loss: 0.1402\n",
      "Epoch 86/100\n",
      "30/30 [==============================] - 0s 33us/step - loss: 0.2378\n",
      "Epoch 87/100\n",
      "30/30 [==============================] - 0s 67us/step - loss: 0.3126\n",
      "Epoch 88/100\n",
      "30/30 [==============================] - 0s 67us/step - loss: 0.3241\n",
      "Epoch 89/100\n",
      "30/30 [==============================] - 0s 67us/step - loss: 0.2755\n",
      "Epoch 90/100\n",
      "30/30 [==============================] - 0s 67us/step - loss: 0.2058\n",
      "Epoch 91/100\n",
      "30/30 [==============================] - 0s 33us/step - loss: 0.1595\n",
      "Epoch 92/100\n",
      "30/30 [==============================] - 0s 67us/step - loss: 0.1581\n",
      "Epoch 93/100\n",
      "30/30 [==============================] - 0s 67us/step - loss: 0.1914\n",
      "Epoch 94/100\n",
      "30/30 [==============================] - 0s 67us/step - loss: 0.2285\n",
      "Epoch 95/100\n",
      "30/30 [==============================] - 0s 67us/step - loss: 0.2411\n",
      "Epoch 96/100\n",
      "30/30 [==============================] - 0s 67us/step - loss: 0.2208\n",
      "Epoch 97/100\n",
      "30/30 [==============================] - 0s 67us/step - loss: 0.1809\n",
      "Epoch 98/100\n",
      "30/30 [==============================] - 0s 67us/step - loss: 0.1442\n",
      "Epoch 99/100\n",
      "30/30 [==============================] - 0s 67us/step - loss: 0.1275\n"
     ]
    },
    {
     "name": "stdout",
     "output_type": "stream",
     "text": [
      "Epoch 100/100\n",
      "\r",
      "30/30 [==============================] - 0s 67us/step - loss: 0.1316\n"
     ]
    }
   ],
   "source": [
    "epochs = model.fit(X_train, y_train, epochs=100 )"
   ]
  },
  {
   "cell_type": "markdown",
   "metadata": {},
   "source": [
    "# 6 - Model Evaluation"
   ]
  },
  {
   "cell_type": "code",
   "execution_count": 15,
   "metadata": {},
   "outputs": [
    {
     "data": {
      "text/plain": [
       "dict_keys(['loss'])"
      ]
     },
     "execution_count": 15,
     "metadata": {},
     "output_type": "execute_result"
    }
   ],
   "source": [
    "epochs.history.keys()"
   ]
  },
  {
   "cell_type": "code",
   "execution_count": 16,
   "metadata": {},
   "outputs": [
    {
     "data": {
      "text/plain": [
       "<matplotlib.legend.Legend at 0x235b0901860>"
      ]
     },
     "execution_count": 16,
     "metadata": {},
     "output_type": "execute_result"
    },
    {
     "data": {
      "image/png": "[encoded data removed]",
      "text/plain": [
       "<Figure size 432x288 with 1 Axes>"
      ]
     },
     "metadata": {
      "needs_background": "light"
     },
     "output_type": "display_data"
    }
   ],
   "source": [
    "plt.plot(epochs.history['loss'])\n",
    "plt.title('Model Loss Progress Dyrnig Training')\n",
    "plt.xlabel('Epochs')\n",
    "plt.ylabel('Training Loss')\n",
    "plt.legend('Training Loss')"
   ]
  },
  {
   "cell_type": "markdown",
   "metadata": {},
   "source": [
    "#### Model Coefficients"
   ]
  },
  {
   "cell_type": "code",
   "execution_count": 17,
   "metadata": {},
   "outputs": [
    {
     "data": {
      "text/plain": [
       "[array([[1.7908081]], dtype=float32), array([32.33645], dtype=float32)]"
      ]
     },
     "execution_count": 17,
     "metadata": {},
     "output_type": "execute_result"
    }
   ],
   "source": [
    "model.get_weights()"
   ]
  },
  {
   "cell_type": "code",
   "execution_count": 18,
   "metadata": {},
   "outputs": [
    {
     "name": "stdout",
     "output_type": "stream",
     "text": [
      "Temperatuer in Degf Using Training ANN= [[32.33645]]\n"
     ]
    }
   ],
   "source": [
    "Temp_C = 0\n",
    "predicted = model.predict([Temp_C])\n",
    "print('Temperatuer in Degf Using Training ANN=', predicted)"
   ]
  },
  {
   "cell_type": "code",
   "execution_count": 19,
   "metadata": {},
   "outputs": [
    {
     "name": "stdout",
     "output_type": "stream",
     "text": [
      "Temperatuer in Degf Using Training ANN= [[68.15261]]\n"
     ]
    }
   ],
   "source": [
    "Temp_C_2 = 20\n",
    "predicted_2 = model.predict([Temp_C_2])\n",
    "print('Temperatuer in Degf Using Training ANN=', predicted_2)"
   ]
  },
  {
   "cell_type": "code",
   "execution_count": null,
   "metadata": {},
   "outputs": [],
   "source": []
  },
  {
   "cell_type": "code",
   "execution_count": null,
   "metadata": {},
   "outputs": [],
   "source": []
  },
  {
   "cell_type": "code",
   "execution_count": null,
   "metadata": {},
   "outputs": [],
   "source": []
  },
  {
   "cell_type": "code",
   "execution_count": null,
   "metadata": {},
   "outputs": [],
   "source": []
  }
 ],
 "metadata": {
  "kernelspec": {
   "display_name": "Python 3",
   "language": "python",
   "name": "python3"
  },
  "language_info": {
   "codemirror_mode": {
    "name": "ipython",
    "version": 3
   },
   "file_extension": ".py",
   "mimetype": "text/x-python",
   "name": "python",
   "nbconvert_exporter": "python",
   "pygments_lexer": "ipython3",
   "version": "3.6.9"
  }
 },
 "nbformat": 4,
 "nbformat_minor": 4
}
